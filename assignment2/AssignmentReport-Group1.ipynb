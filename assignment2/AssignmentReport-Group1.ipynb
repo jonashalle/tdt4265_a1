{
 "cells": [
  {
   "cell_type": "markdown",
   "metadata": {},
   "source": [
    "# Assignment 1 Report"
   ]
  },
  {
   "cell_type": "markdown",
   "metadata": {},
   "source": [
    "This is an outline for your report to ease the amount of work required to create your report. Jupyter notebook supports markdown, and I recommend you to check out this [cheat sheet](https://github.com/adam-p/markdown-here/wiki/Markdown-Cheatsheet). If you are not familiar with markdown.\n",
    "\n",
    "Before delivery, **remember to convert this file to PDF**. You can do it in two ways:\n",
    "1. Print the webpage (ctrl+P or cmd+P)\n",
    "2. Export with latex. This is somewhat more difficult, but you'll get somehwat of a \"prettier\" PDF. Go to File -> Download as -> PDF via LaTeX. You might have to install nbconvert and pandoc through conda; `conda install nbconvert pandoc`."
   ]
  },
  {
   "cell_type": "markdown",
   "metadata": {},
   "source": [
    "# Task 1"
   ]
  },
  {
   "cell_type": "markdown",
   "metadata": {},
   "source": [
    "## Task 1a)\n",
    "\n",
    "From the equations in the task, we have that:\n",
    "$\\alpha \\frac{\\partial C}{\\partial w_{ji}} = \\alpha \\frac{\\partial C}{\\partial z_{j}} \\frac{\\partial z_j}{\\partial w_{ji}}$, where $\\frac{\\partial C}{\\partial z_{j}} = \\delta_j$ and $\\frac{\\partial z_j}{\\partial w_{ji}} = \\frac{\\partial}{\\partial w_{ji}} (x_i \\omega_{ji} + b_j) = x_i$ \n",
    "\n",
    "Since $\\alpha \\frac{\\partial C}{\\partial w_{ji}} = \\alpha \\delta_j x_i$ we have that:\n",
    "\n",
    "$w_{ji} = w_{ji} - \\alpha \\frac{\\partial C}{\\partial w_{ji}} = w_{ji} - \\alpha \\delta x_i$\n",
    "\n",
    "For the other term we have that $\\delta_j = \\frac{\\partial C}{\\partial z_j} = \\sum_k \\frac{\\partial C}{\\partial z_k} \\frac{\\partial z_k}{\\partial z_j} = \\sum_k \\delta_k \\frac{\\partial C}{\\partial z_j}$\n",
    "\n",
    "where $z_k = \\sum_j \\omega_{kj} f(z_j) + b_k$ which yield $\\frac{\\partial z_k}{\\partial z_j} = \\omega_{kj} f'(z_j)$\n",
    "\n",
    "We then have $\\delta_j = \\sum_k \\delta_k \\omega_{kj} f'(z_j) = f'(z_j) \\sum_k \\delta_k \\omega_{kj}$"
   ]
  },
  {
   "cell_type": "markdown",
   "metadata": {},
   "source": [
    "## Task 1b)\n",
    "\n",
    "We have that the weight matrix for a given layer $l$ is given by $\\omega^l$. Hence the update rules for the different layers are given by:\n",
    "\n",
    "$\\omega^1 = \\omega^1 - \\alpha \\nabla_x \\frac{\\partial C}{\\partial w^1}$\n",
    "\n",
    "and\n",
    "\n",
    "$\\omega^2 = \\omega^2 - \\alpha \\nabla_x \\frac{\\partial C}{\\partial w^2}$,\n",
    "\n",
    "respectivley."
   ]
  },
  {
   "cell_type": "markdown",
   "metadata": {},
   "source": [
    "# Task 2"
   ]
  },
  {
   "cell_type": "markdown",
   "metadata": {},
   "source": [
    "## Task 2a)\n",
    "\n",
    "The mean is $33.5527$ and the standard deviation is $78.8755$."
   ]
  },
  {
   "cell_type": "markdown",
   "metadata": {},
   "source": [
    "## Task 2b)\n",
    "\n",
    "This can be seen in the code provided"
   ]
  },
  {
   "cell_type": "markdown",
   "metadata": {},
   "source": [
    "## Task 2c)\n",
    "![](2c.png)"
   ]
  },
  {
   "cell_type": "markdown",
   "metadata": {},
   "source": [
    "## Task 2d)\n",
    "\n",
    "The total number of parameters, meaning weights and biases, for this network is $785 \\cdot 64 + 64 \\cdot 10 = 50880$"
   ]
  },
  {
   "cell_type": "markdown",
   "metadata": {},
   "source": [
    "# Task 3"
   ]
  },
  {
   "cell_type": "markdown",
   "metadata": {},
   "source": [
    "## Task 3a)\n",
    "\n",
    "\n",
    "![](3a_terminal.jpg)\n",
    "\n",
    "![](figure_3a.png)"
   ]
  },
  {
   "cell_type": "markdown",
   "metadata": {},
   "source": [
    "## Task 3b)\n",
    "\n",
    "\n",
    "![](3b_terminal.jpg)\n",
    "\n",
    "![](figure_3b.png)"
   ]
  },
  {
   "cell_type": "markdown",
   "metadata": {},
   "source": [
    "## Task 3c)\n",
    "\n",
    "![](3c_terminal.jpg)\n",
    "\n",
    "![](figure_3c.png)"
   ]
  },
  {
   "cell_type": "markdown",
   "metadata": {},
   "source": [
    "The different stages plotted together, with the plots from 2c), 3a), 3b), 3c) and 3d) in the top right, top left, bottom right and bottom left corners, respectively.\n",
    "\n",
    "![](figure_3c_comparing.png)"
   ]
  },
  {
   "cell_type": "markdown",
   "metadata": {},
   "source": [
    "# Task 4"
   ]
  },
  {
   "cell_type": "markdown",
   "metadata": {},
   "source": [
    "## Task 4a)\n",
    "A smaller amount of nodes in a network means less sums to be calculated and thereby less information that can be stored. By having a larger network it is easier to make a model that fits the problem better and the training steos will most likely be fewer as well. That being said, the number of operations done in a single pass through the network will be greater for larger networks, the traning time will therefore not necessarily decrease with a larger amount of nodes in a layer.\n",
    "\n",
    "![](4a.png) "
   ]
  },
  {
   "cell_type": "markdown",
   "metadata": {},
   "source": [
    "## Task 4b)\n",
    "Most was said in 4a), but it can be seen in the differences between the two plots that there are less training steps needed for making an adequate model with $128$ nodes in the hidden layer rather than $32$.\n",
    "\n",
    "\n",
    "![](4b.png)\n"
   ]
  },
  {
   "cell_type": "markdown",
   "metadata": {},
   "source": [
    "## Task 4c)"
   ]
  },
  {
   "cell_type": "markdown",
   "metadata": {},
   "source": [
    "## Task 4d)\n",
    "FILL IN ANSWER"
   ]
  },
  {
   "cell_type": "markdown",
   "metadata": {},
   "source": [
    "## Task 4e)\n",
    "FILL IN ANSWER"
   ]
  }
 ],
 "metadata": {
  "kernelspec": {
   "display_name": "Python 3.8.1 64-bit ('py38': conda)",
   "language": "python",
   "name": "python38164bitpy38condac1f68ca5407a4349b0d7e37676f2fbb3"
  },
  "language_info": {
   "codemirror_mode": {
    "name": "ipython",
    "version": 3
   },
   "file_extension": ".py",
   "mimetype": "text/x-python",
   "name": "python",
   "nbconvert_exporter": "python",
   "pygments_lexer": "ipython3",
   "version": "3.8.1"
  }
 },
 "nbformat": 4,
 "nbformat_minor": 4
}
